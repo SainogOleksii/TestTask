{
 "cells": [
  {
   "cell_type": "code",
   "execution_count": 1,
   "metadata": {},
   "outputs": [],
   "source": [
    "import numpy as np\n",
    "from tensorflow.keras.models import Sequential\n",
    "from tensorflow.keras.layers import Conv2D, MaxPool2D, Flatten, Dense, AvgPool2D, Dropout\n",
    "from tensorflow.keras.datasets import mnist"
   ]
  },
  {
   "cell_type": "code",
   "execution_count": 2,
   "metadata": {},
   "outputs": [],
   "source": [
    "def nn_output(elem, max_elem: int=8):\n",
    "    res = np.zeros(max_elem, dtype=int)\n",
    "    res[elem] = 1\n",
    "    return np.array(res)"
   ]
  },
  {
   "cell_type": "code",
   "execution_count": 3,
   "metadata": {},
   "outputs": [],
   "source": [
    "from augmentation import Image, Augmentation\n",
    "import cv2\n",
    "METHODS = [\"rotation\", \"shifting\", \"blurring\"]\n",
    "\n",
    "SHAPE = (120, 120, 3)"
   ]
  },
  {
   "cell_type": "code",
   "execution_count": 4,
   "metadata": {},
   "outputs": [],
   "source": [
    "np.random.seed(42)"
   ]
  },
  {
   "cell_type": "code",
   "execution_count": 5,
   "metadata": {},
   "outputs": [],
   "source": [
    "(X_train, y_train), (X_test, y_test) = mnist.load_data()"
   ]
  },
  {
   "cell_type": "code",
   "execution_count": 6,
   "metadata": {},
   "outputs": [],
   "source": [
    "model = Sequential()\n",
    "model.add(Conv2D(6, (5, 5), input_shape = SHAPE, activation = \"relu\", padding=\"same\"))\n",
    "model.add(AvgPool2D(pool_size = (2, 2)))\n",
    "model.add(Conv2D(10, (3, 3), activation = \"relu\"))\n",
    "model.add(AvgPool2D(pool_size = (2, 2)))\n",
    "model.add(Conv2D(17, (5, 5), activation = \"relu\"))\n",
    "model.add(AvgPool2D(pool_size = (2, 2)))\n",
    "model.add(Conv2D(27, (5, 5), activation = \"relu\"))\n",
    "model.add(AvgPool2D(pool_size = (2, 2), strides=(2, 2)))\n",
    "model.add(Conv2D(32, (3, 3), activation = \"relu\"))\n",
    "model.add(Flatten())\n",
    "model.add(Dense(10, kernel_initializer=\"normal\", activation=\"softmax\"))\n",
    "\n",
    "model.compile(loss=\"categorical_crossentropy\", optimizer=\"Adam\", metrics=[\"accuracy\"])"
   ]
  },
  {
   "cell_type": "code",
   "execution_count": 7,
   "metadata": {},
   "outputs": [
    {
     "name": "stdout",
     "output_type": "stream",
     "text": [
      "_________________________________________________________________\n",
      "Layer (type)                 Output Shape              Param #   \n",
      "=================================================================\n",
      "conv2d (Conv2D)              (None, 120, 120, 6)       456       \n",
      "_________________________________________________________________\n",
      "average_pooling2d (AveragePo (None, 60, 60, 6)         0         \n",
      "_________________________________________________________________\n",
      "conv2d_1 (Conv2D)            (None, 58, 58, 10)        550       \n",
      "_________________________________________________________________\n",
      "average_pooling2d_1 (Average (None, 29, 29, 10)        0         \n",
      "_________________________________________________________________\n",
      "conv2d_2 (Conv2D)            (None, 25, 25, 17)        4267      \n",
      "_________________________________________________________________\n",
      "average_pooling2d_2 (Average (None, 12, 12, 17)        0         \n",
      "_________________________________________________________________\n",
      "conv2d_3 (Conv2D)            (None, 8, 8, 27)          11502     \n",
      "_________________________________________________________________\n",
      "average_pooling2d_3 (Average (None, 4, 4, 27)          0         \n",
      "_________________________________________________________________\n",
      "conv2d_4 (Conv2D)            (None, 2, 2, 32)          7808      \n",
      "_________________________________________________________________\n",
      "flatten (Flatten)            (None, 128)               0         \n",
      "_________________________________________________________________\n",
      "dense (Dense)                (None, 10)                1290      \n",
      "=================================================================\n",
      "Total params: 25,873\n",
      "Trainable params: 25,873\n",
      "Non-trainable params: 0\n",
      "_________________________________________________________________\n"
     ]
    }
   ],
   "source": [
    "model.summary()"
   ]
  },
  {
   "cell_type": "code",
   "execution_count": 8,
   "metadata": {
    "scrolled": true
   },
   "outputs": [
    {
     "name": "stdout",
     "output_type": "stream",
     "text": [
      "Epoch 1/2\n",
      "20005/20005 [==============================] - 112s 6ms/step - loss: 1.8339 - acc: 0.3863\n",
      "Epoch 2/2\n",
      "20005/20005 [==============================] - 111s 6ms/step - loss: 0.7661 - acc: 0.7626\n",
      "test acc: 0.8359\n",
      "Epoch 1/2\n",
      "20000/20000 [==============================] - 110s 5ms/step - loss: 0.4744 - acc: 0.8536\n",
      "Epoch 2/2\n",
      "20000/20000 [==============================] - 111s 6ms/step - loss: 0.3102 - acc: 0.9028\n",
      "test acc: 0.9216\n",
      "Epoch 1/2\n",
      "20000/20000 [==============================] - 111s 6ms/step - loss: 0.2980 - acc: 0.9104\n",
      "Epoch 2/2\n",
      "20000/20000 [==============================] - 111s 6ms/step - loss: 0.2241 - acc: 0.9324\n",
      "test acc: 0.9401\n",
      "Epoch 1/2\n",
      "20000/20000 [==============================] - 110s 6ms/step - loss: 0.2121 - acc: 0.9356\n",
      "Epoch 2/2\n",
      "20000/20000 [==============================] - 111s 6ms/step - loss: 0.1533 - acc: 0.9538\n",
      "test acc: 0.9603\n",
      "Epoch 1/2\n",
      "20000/20000 [==============================] - 112s 6ms/step - loss: 0.1414 - acc: 0.9559\n",
      "Epoch 2/2\n",
      "20000/20000 [==============================] - 112s 6ms/step - loss: 0.1136 - acc: 0.9653\n",
      "test acc: 0.9652\n",
      "Epoch 1/2\n",
      "20000/20000 [==============================] - 114s 6ms/step - loss: 0.1194 - acc: 0.9619\n",
      "Epoch 2/2\n",
      "20000/20000 [==============================] - 118s 6ms/step - loss: 0.0942 - acc: 0.9704\n",
      "test acc: 0.9715\n",
      "Epoch 1/2\n",
      "20000/20000 [==============================] - 112s 6ms/step - loss: 0.1219 - acc: 0.9622\n",
      "Epoch 2/2\n",
      "20000/20000 [==============================] - 111s 6ms/step - loss: 0.0989 - acc: 0.9706\n",
      "test acc: 0.9718\n",
      "Epoch 1/2\n",
      "20000/20000 [==============================] - 111s 6ms/step - loss: 0.1047 - acc: 0.9654\n",
      "Epoch 2/2\n",
      "20000/20000 [==============================] - 111s 6ms/step - loss: 0.0754 - acc: 0.9764\n",
      "test acc: 0.9773\n",
      "Epoch 1/2\n",
      "20000/20000 [==============================] - 116s 6ms/step - loss: 0.0930 - acc: 0.9721\n",
      "Epoch 2/2\n",
      "20000/20000 [==============================] - 119s 6ms/step - loss: 0.0656 - acc: 0.9798\n",
      "test acc: 0.9784\n",
      "Epoch 1/2\n",
      "20000/20000 [==============================] - 120s 6ms/step - loss: 0.0961 - acc: 0.9696\n",
      "Epoch 2/2\n",
      "20000/20000 [==============================] - 117s 6ms/step - loss: 0.0681 - acc: 0.9783\n",
      "test acc: 0.9795\n",
      "Epoch 1/2\n",
      "20000/20000 [==============================] - 119s 6ms/step - loss: 0.0823 - acc: 0.9755\n",
      "Epoch 2/2\n",
      "20000/20000 [==============================] - 118s 6ms/step - loss: 0.0623 - acc: 0.9810\n",
      "test acc: 0.9797\n",
      "Epoch 1/2\n",
      "20000/20000 [==============================] - 112s 6ms/step - loss: 0.0930 - acc: 0.9714\n",
      "Epoch 2/2\n",
      "20000/20000 [==============================] - 112s 6ms/step - loss: 0.0626 - acc: 0.9799\n",
      "test acc: 0.9805\n",
      "Epoch 1/2\n",
      "15360/20000 [======================>.......] - ETA: 26s - loss: 0.0800 - acc: 0.9747"
     ]
    },
    {
     "ename": "KeyboardInterrupt",
     "evalue": "",
     "output_type": "error",
     "traceback": [
      "\u001b[0;31m---------------------------------------------------------------------------\u001b[0m",
      "\u001b[0;31mKeyboardInterrupt\u001b[0m                         Traceback (most recent call last)",
      "\u001b[0;32m<ipython-input-8-00875c15a5e8>\u001b[0m in \u001b[0;36m<module>\u001b[0;34m()\u001b[0m\n\u001b[1;32m     19\u001b[0m         \u001b[0my\u001b[0m \u001b[0;34m=\u001b[0m \u001b[0mnp\u001b[0m\u001b[0;34m.\u001b[0m\u001b[0marray\u001b[0m\u001b[0;34m(\u001b[0m\u001b[0my\u001b[0m\u001b[0;34m)\u001b[0m\u001b[0;34m\u001b[0m\u001b[0m\n\u001b[1;32m     20\u001b[0m         \u001b[0my\u001b[0m \u001b[0;34m=\u001b[0m \u001b[0mnp\u001b[0m\u001b[0;34m.\u001b[0m\u001b[0marray\u001b[0m\u001b[0;34m(\u001b[0m\u001b[0mlist\u001b[0m\u001b[0;34m(\u001b[0m\u001b[0mmap\u001b[0m\u001b[0;34m(\u001b[0m\u001b[0;32mlambda\u001b[0m \u001b[0mx\u001b[0m\u001b[0;34m:\u001b[0m \u001b[0mnn_output\u001b[0m\u001b[0;34m(\u001b[0m\u001b[0mx\u001b[0m\u001b[0;34m,\u001b[0m \u001b[0;36m10\u001b[0m\u001b[0;34m)\u001b[0m\u001b[0;34m,\u001b[0m \u001b[0my\u001b[0m\u001b[0;34m)\u001b[0m\u001b[0;34m)\u001b[0m\u001b[0;34m)\u001b[0m\u001b[0;34m\u001b[0m\u001b[0m\n\u001b[0;32m---> 21\u001b[0;31m         \u001b[0mmodel\u001b[0m\u001b[0;34m.\u001b[0m\u001b[0mfit\u001b[0m\u001b[0;34m(\u001b[0m\u001b[0mX\u001b[0m\u001b[0;34m,\u001b[0m \u001b[0my\u001b[0m\u001b[0;34m,\u001b[0m \u001b[0mbatch_size\u001b[0m\u001b[0;34m=\u001b[0m\u001b[0;36m1024\u001b[0m\u001b[0;34m,\u001b[0m \u001b[0mepochs\u001b[0m\u001b[0;34m=\u001b[0m\u001b[0;36m2\u001b[0m\u001b[0;34m,\u001b[0m \u001b[0mverbose\u001b[0m\u001b[0;34m=\u001b[0m\u001b[0;36m1\u001b[0m\u001b[0;34m)\u001b[0m\u001b[0;34m\u001b[0m\u001b[0m\n\u001b[0m\u001b[1;32m     22\u001b[0m         \u001b[0mi_start\u001b[0m \u001b[0;34m=\u001b[0m \u001b[0mi_finish\u001b[0m\u001b[0;34m\u001b[0m\u001b[0m\n\u001b[1;32m     23\u001b[0m         \u001b[0mi_finish\u001b[0m \u001b[0;34m+=\u001b[0m \u001b[0mbatch_size\u001b[0m\u001b[0;34m\u001b[0m\u001b[0m\n",
      "\u001b[0;32m~/anaconda3/lib/python3.6/site-packages/tensorflow/python/keras/engine/training.py\u001b[0m in \u001b[0;36mfit\u001b[0;34m(self, x, y, batch_size, epochs, verbose, callbacks, validation_split, validation_data, shuffle, class_weight, sample_weight, initial_epoch, steps_per_epoch, validation_steps, **kwargs)\u001b[0m\n\u001b[1;32m   1346\u001b[0m           \u001b[0minitial_epoch\u001b[0m\u001b[0;34m=\u001b[0m\u001b[0minitial_epoch\u001b[0m\u001b[0;34m,\u001b[0m\u001b[0;34m\u001b[0m\u001b[0m\n\u001b[1;32m   1347\u001b[0m           \u001b[0msteps_per_epoch\u001b[0m\u001b[0;34m=\u001b[0m\u001b[0msteps_per_epoch\u001b[0m\u001b[0;34m,\u001b[0m\u001b[0;34m\u001b[0m\u001b[0m\n\u001b[0;32m-> 1348\u001b[0;31m           validation_steps=validation_steps)\n\u001b[0m\u001b[1;32m   1349\u001b[0m \u001b[0;34m\u001b[0m\u001b[0m\n\u001b[1;32m   1350\u001b[0m   def evaluate(self,\n",
      "\u001b[0;32m~/anaconda3/lib/python3.6/site-packages/tensorflow/python/keras/engine/training_arrays.py\u001b[0m in \u001b[0;36mfit_loop\u001b[0;34m(model, inputs, targets, sample_weights, batch_size, epochs, verbose, callbacks, val_inputs, val_targets, val_sample_weights, shuffle, callback_metrics, initial_epoch, steps_per_epoch, validation_steps)\u001b[0m\n\u001b[1;32m    251\u001b[0m           \u001b[0mins_batch\u001b[0m\u001b[0;34m[\u001b[0m\u001b[0mi\u001b[0m\u001b[0;34m]\u001b[0m \u001b[0;34m=\u001b[0m \u001b[0mins_batch\u001b[0m\u001b[0;34m[\u001b[0m\u001b[0mi\u001b[0m\u001b[0;34m]\u001b[0m\u001b[0;34m.\u001b[0m\u001b[0mtoarray\u001b[0m\u001b[0;34m(\u001b[0m\u001b[0;34m)\u001b[0m\u001b[0;34m\u001b[0m\u001b[0m\n\u001b[1;32m    252\u001b[0m \u001b[0;34m\u001b[0m\u001b[0m\n\u001b[0;32m--> 253\u001b[0;31m         \u001b[0mouts\u001b[0m \u001b[0;34m=\u001b[0m \u001b[0mf\u001b[0m\u001b[0;34m(\u001b[0m\u001b[0mins_batch\u001b[0m\u001b[0;34m)\u001b[0m\u001b[0;34m\u001b[0m\u001b[0m\n\u001b[0m\u001b[1;32m    254\u001b[0m         \u001b[0;32mif\u001b[0m \u001b[0;32mnot\u001b[0m \u001b[0misinstance\u001b[0m\u001b[0;34m(\u001b[0m\u001b[0mouts\u001b[0m\u001b[0;34m,\u001b[0m \u001b[0mlist\u001b[0m\u001b[0;34m)\u001b[0m\u001b[0;34m:\u001b[0m\u001b[0;34m\u001b[0m\u001b[0m\n\u001b[1;32m    255\u001b[0m           \u001b[0mouts\u001b[0m \u001b[0;34m=\u001b[0m \u001b[0;34m[\u001b[0m\u001b[0mouts\u001b[0m\u001b[0;34m]\u001b[0m\u001b[0;34m\u001b[0m\u001b[0m\n",
      "\u001b[0;32m~/anaconda3/lib/python3.6/site-packages/tensorflow/python/keras/backend.py\u001b[0m in \u001b[0;36m__call__\u001b[0;34m(self, inputs)\u001b[0m\n\u001b[1;32m   2895\u001b[0m       \u001b[0mself\u001b[0m\u001b[0;34m.\u001b[0m\u001b[0m_make_callable\u001b[0m\u001b[0;34m(\u001b[0m\u001b[0mfeed_arrays\u001b[0m\u001b[0;34m,\u001b[0m \u001b[0mfeed_symbols\u001b[0m\u001b[0;34m,\u001b[0m \u001b[0msymbol_vals\u001b[0m\u001b[0;34m,\u001b[0m \u001b[0msession\u001b[0m\u001b[0;34m)\u001b[0m\u001b[0;34m\u001b[0m\u001b[0m\n\u001b[1;32m   2896\u001b[0m \u001b[0;34m\u001b[0m\u001b[0m\n\u001b[0;32m-> 2897\u001b[0;31m     \u001b[0mfetched\u001b[0m \u001b[0;34m=\u001b[0m \u001b[0mself\u001b[0m\u001b[0;34m.\u001b[0m\u001b[0m_callable_fn\u001b[0m\u001b[0;34m(\u001b[0m\u001b[0;34m*\u001b[0m\u001b[0marray_vals\u001b[0m\u001b[0;34m)\u001b[0m\u001b[0;34m\u001b[0m\u001b[0m\n\u001b[0m\u001b[1;32m   2898\u001b[0m     \u001b[0;32mreturn\u001b[0m \u001b[0mfetched\u001b[0m\u001b[0;34m[\u001b[0m\u001b[0;34m:\u001b[0m\u001b[0mlen\u001b[0m\u001b[0;34m(\u001b[0m\u001b[0mself\u001b[0m\u001b[0;34m.\u001b[0m\u001b[0moutputs\u001b[0m\u001b[0;34m)\u001b[0m\u001b[0;34m]\u001b[0m\u001b[0;34m\u001b[0m\u001b[0m\n\u001b[1;32m   2899\u001b[0m \u001b[0;34m\u001b[0m\u001b[0m\n",
      "\u001b[0;32m~/anaconda3/lib/python3.6/site-packages/tensorflow/python/client/session.py\u001b[0m in \u001b[0;36m__call__\u001b[0;34m(self, *args)\u001b[0m\n\u001b[1;32m   1449\u001b[0m         \u001b[0;32mif\u001b[0m \u001b[0mself\u001b[0m\u001b[0;34m.\u001b[0m\u001b[0m_session\u001b[0m\u001b[0;34m.\u001b[0m\u001b[0m_created_with_new_api\u001b[0m\u001b[0;34m:\u001b[0m\u001b[0;34m\u001b[0m\u001b[0m\n\u001b[1;32m   1450\u001b[0m           return tf_session.TF_SessionRunCallable(\n\u001b[0;32m-> 1451\u001b[0;31m               self._session._session, self._handle, args, status, None)\n\u001b[0m\u001b[1;32m   1452\u001b[0m         \u001b[0;32melse\u001b[0m\u001b[0;34m:\u001b[0m\u001b[0;34m\u001b[0m\u001b[0m\n\u001b[1;32m   1453\u001b[0m           return tf_session.TF_DeprecatedSessionRunCallable(\n",
      "\u001b[0;31mKeyboardInterrupt\u001b[0m: "
     ]
    }
   ],
   "source": [
    "for _ in range(2):\n",
    "    batch_size = 4000\n",
    "    i_start = 0\n",
    "    i_finish = batch_size + 1\n",
    "    for i in range(X_train.shape[0] // batch_size):\n",
    "        X = []\n",
    "        y = []\n",
    "        for elem, label in zip(X_train[i_start: i_finish], y_train[i_start: i_finish]):\n",
    "            img = Image([0, 0, 0, 0], image_matrix=cv2.merge([255 - elem for _ in range(3)]))\n",
    "            img = img.shearing(tuple(SHAPE[:2]))\n",
    "            X.append(img.image_matrix / 255)\n",
    "            y.append(label)\n",
    "            aug = Augmentation(img, count=4, methods_list=METHODS)\n",
    "            aug.create_children()\n",
    "            for child in aug.children:\n",
    "                X.append(child.image_matrix / 255)\n",
    "                y.append(label)\n",
    "        X = np.array(X)\n",
    "        y = np.array(y)\n",
    "        y = np.array(list(map(lambda x: nn_output(x, 10), y)))\n",
    "        model.fit(X, y, batch_size=1024, epochs=3, verbose=1)\n",
    "        i_start = i_finish\n",
    "        i_finish += batch_size\n",
    "\n",
    "        _X_ = []\n",
    "        for elem, label in zip(X_test, y_test):\n",
    "            img = Image([0, 0, 0, 0], image_matrix=cv2.merge([255 - elem for _ in range(3)]))\n",
    "            img = img.shearing(tuple(SHAPE[:2]))\n",
    "            _X_.append(img.image_matrix / 255)\n",
    "        _X_ = np.array(_X_)\n",
    "        pred = model.predict(_X_)\n",
    "        print(f\"test acc: {np.sum(y_test == pred.argmax(axis=1)) / 10000}\")"
   ]
  },
  {
   "cell_type": "code",
   "execution_count": 9,
   "metadata": {},
   "outputs": [],
   "source": [
    "model.save(\"my_MNIST.h5\")"
   ]
  },
  {
   "cell_type": "raw",
   "metadata": {},
   "source": []
  }
 ],
 "metadata": {
  "kernelspec": {
   "display_name": "Python 3",
   "language": "python",
   "name": "python3"
  },
  "language_info": {
   "codemirror_mode": {
    "name": "ipython",
    "version": 3
   },
   "file_extension": ".py",
   "mimetype": "text/x-python",
   "name": "python",
   "nbconvert_exporter": "python",
   "pygments_lexer": "ipython3",
   "version": "3.6.4"
  }
 },
 "nbformat": 4,
 "nbformat_minor": 2
}
