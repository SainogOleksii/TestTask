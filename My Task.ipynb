{
 "cells": [
  {
   "cell_type": "code",
   "execution_count": 1,
   "metadata": {},
   "outputs": [],
   "source": [
    "import os\n",
    "\n",
    "import numpy as np\n",
    "import pandas as pd\n",
    "\n",
    "from augmentation import Augmentation, Image\n",
    "from config import ROOT_PATH\n",
    "\n",
    "from tensorflow.keras.models import load_model\n",
    "from tensorflow.keras.layers import Dense\n",
    "\n",
    "from concurrent.futures import ThreadPoolExecutor, wait\n",
    "\n",
    "SHAPE = (120, 120, 3)\n",
    "METHODS = [\"rotation\", \"shifting\", \"blurring\"]"
   ]
  },
  {
   "cell_type": "code",
   "execution_count": 2,
   "metadata": {},
   "outputs": [],
   "source": [
    "def nn_output(elem, max_elem: int=8):\n",
    "    res = np.zeros(max_elem, dtype=int)\n",
    "    res[elem - 1] = 1\n",
    "    return res"
   ]
  },
  {
   "cell_type": "code",
   "execution_count": 3,
   "metadata": {},
   "outputs": [],
   "source": [
    "def add_data(label):\n",
    "    global data\n",
    "    dir_name = os.path.join(os.path.join(ROOT_PATH, \"data\"), str(label))\n",
    "    for file in os.listdir(dir_name):\n",
    "        image = Image(filename=os.path.join(dir_name, file))\n",
    "        image = image.shearing(tuple(SHAPE[:2]))\n",
    "        data.append((image.image_matrix / 255, nn_output(label)))\n",
    "        aug = Augmentation(image, count=29, methods_list=METHODS)\n",
    "        aug.create_children()\n",
    "        for child in aug.children:\n",
    "            data.append((child.image_matrix / 255,  nn_output(label)))"
   ]
  },
  {
   "cell_type": "code",
   "execution_count": 4,
   "metadata": {},
   "outputs": [],
   "source": [
    "def mixup():\n",
    "    global X, y, X_, y_\n",
    "    index_1 = np.random.choice(len(X))\n",
    "    index_2 = np.random.choice(len(X))\n",
    "\n",
    "    x_1, label_1 = X[index_1], y[index_1]\n",
    "    x_2, label_2 = X[index_2], y[index_2]\n",
    "\n",
    "    alpha = np.random.uniform(0.1, 0.2)\n",
    "\n",
    "    X_.append(x_1 * alpha + x_2 * (1 - alpha))\n",
    "    y_.append(label_1 * alpha + label_2 * (1 - alpha))"
   ]
  },
  {
   "cell_type": "code",
   "execution_count": 5,
   "metadata": {},
   "outputs": [],
   "source": [
    "data = []\n",
    "with ThreadPoolExecutor(max_workers=8) as executor:\n",
    "    preds = [executor.submit(add_data, label) for label in range(1, 9)]\n",
    "    wait(preds)\n",
    "X = [i[0] for i in data]\n",
    "y = [i[1] for i in data]    \n",
    "\n",
    "X_ = []\n",
    "y_ = []\n",
    "\n",
    "with ThreadPoolExecutor(max_workers=16) as executor:\n",
    "    preds = [executor.submit(mixup) for label in range(60000)]\n",
    "    wait(preds)"
   ]
  },
  {
   "cell_type": "code",
   "execution_count": 6,
   "metadata": {},
   "outputs": [],
   "source": [
    "X = np.array(X + X_)\n",
    "y = np.array(y + y_)"
   ]
  },
  {
   "cell_type": "code",
   "execution_count": 7,
   "metadata": {},
   "outputs": [],
   "source": [
    "import numpy as np\n",
    "from tensorflow.keras.models import Sequential\n",
    "from tensorflow.keras.layers import Conv2D, MaxPool2D, Flatten, Dense, AvgPool2D\n",
    "from tensorflow.keras.datasets import mnist"
   ]
  },
  {
   "cell_type": "code",
   "execution_count": 8,
   "metadata": {
    "scrolled": true
   },
   "outputs": [],
   "source": [
    "model = load_model(\"my_MNIST.h5\")\n",
    "for layer in model.layers[:-5]:\n",
    "    layer.trainable = False\n",
    "model.pop()\n",
    "model.add(Dense(8, kernel_initializer=\"normal\", activation=\"softmax\"))\n",
    "model.compile(loss=\"categorical_crossentropy\", optimizer=\"Adam\", metrics=[\"accuracy\"])"
   ]
  },
  {
   "cell_type": "code",
   "execution_count": null,
   "metadata": {},
   "outputs": [
    {
     "name": "stdout",
     "output_type": "stream",
     "text": [
      "_________________________________________________________________\n",
      "Layer (type)                 Output Shape              Param #   \n",
      "=================================================================\n",
      "conv2d (Conv2D)              (None, 120, 120, 6)       456       \n",
      "_________________________________________________________________\n",
      "average_pooling2d (AveragePo (None, 60, 60, 6)         0         \n",
      "_________________________________________________________________\n",
      "conv2d_1 (Conv2D)            (None, 58, 58, 10)        550       \n",
      "_________________________________________________________________\n",
      "average_pooling2d_1 (Average (None, 29, 29, 10)        0         \n",
      "_________________________________________________________________\n",
      "conv2d_2 (Conv2D)            (None, 25, 25, 17)        4267      \n",
      "_________________________________________________________________\n",
      "average_pooling2d_2 (Average (None, 12, 12, 17)        0         \n",
      "_________________________________________________________________\n",
      "conv2d_3 (Conv2D)            (None, 8, 8, 27)          11502     \n",
      "_________________________________________________________________\n",
      "average_pooling2d_3 (Average (None, 4, 4, 27)          0         \n",
      "_________________________________________________________________\n",
      "conv2d_4 (Conv2D)            (None, 2, 2, 32)          7808      \n",
      "_________________________________________________________________\n",
      "flatten (Flatten)            (None, 128)               0         \n",
      "_________________________________________________________________\n",
      "dense (Dense)                (None, 8)                 1032      \n",
      "=================================================================\n",
      "Total params: 25,615\n",
      "Trainable params: 20,342\n",
      "Non-trainable params: 5,273\n",
      "_________________________________________________________________\n"
     ]
    }
   ],
   "source": [
    "model.summary()"
   ]
  },
  {
   "cell_type": "markdown",
   "metadata": {},
   "source": [
    "model = Sequential()\n",
    "model.add(Conv2D(8, (5, 5), input_shape = (32, 32, 3), activation = \"relu\"))\n",
    "model.add(AvgPool2D(pool_size = (2, 2), strides=(2, 2)))\n",
    "model.add(Conv2D(16, (5, 5), activation = \"relu\"))\n",
    "model.add(AvgPool2D(pool_size = (2, 2), strides=(2, 2)))\n",
    "model.add(Flatten())\n",
    "model.add(Dense(activation = \"relu\", units=84))\n",
    "model.add(Dense(8, kernel_initializer=\"normal\", activation=\"softmax\"))\n",
    "\n",
    "model.compile(loss=\"categorical_crossentropy\", optimizer=\"Adam\", metrics=[\"accuracy\"])"
   ]
  },
  {
   "cell_type": "code",
   "execution_count": null,
   "metadata": {
    "scrolled": true
   },
   "outputs": [
    {
     "name": "stdout",
     "output_type": "stream",
     "text": [
      "Epoch 1/100\n",
      "66240/66240 [==============================] - 83s 1ms/step - loss: 2.0679 - acc: 0.3202\n",
      "Epoch 2/100\n",
      "66240/66240 [==============================] - 84s 1ms/step - loss: 1.4363 - acc: 0.6142\n",
      "Epoch 3/100\n",
      "66240/66240 [==============================] - 83s 1ms/step - loss: 1.2922 - acc: 0.7091\n",
      "Epoch 4/100\n",
      "66240/66240 [==============================] - 89s 1ms/step - loss: 1.2235 - acc: 0.7530\n",
      "Epoch 5/100\n",
      "66240/66240 [==============================] - 85s 1ms/step - loss: 1.1782 - acc: 0.7792\n",
      "Epoch 6/100\n",
      "66240/66240 [==============================] - 86s 1ms/step - loss: 1.1422 - acc: 0.7977\n",
      "Epoch 7/100\n",
      "66240/66240 [==============================] - 86s 1ms/step - loss: 1.1157 - acc: 0.8110\n",
      "Epoch 8/100\n",
      "35840/66240 [===============>..............] - ETA: 41s - loss: 1.0898 - acc: 0.8198"
     ]
    }
   ],
   "source": [
    "model.fit(X, y, batch_size=512, epochs=100, verbose=1)"
   ]
  },
  {
   "cell_type": "code",
   "execution_count": null,
   "metadata": {},
   "outputs": [],
   "source": [
    "model.save(\"final_model.h5\")"
   ]
  },
  {
   "cell_type": "code",
   "execution_count": null,
   "metadata": {},
   "outputs": [],
   "source": []
  }
 ],
 "metadata": {
  "kernelspec": {
   "display_name": "Python 3",
   "language": "python",
   "name": "python3"
  },
  "language_info": {
   "codemirror_mode": {
    "name": "ipython",
    "version": 3
   },
   "file_extension": ".py",
   "mimetype": "text/x-python",
   "name": "python",
   "nbconvert_exporter": "python",
   "pygments_lexer": "ipython3",
   "version": "3.6.4"
  }
 },
 "nbformat": 4,
 "nbformat_minor": 2
}
